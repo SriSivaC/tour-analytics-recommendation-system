{
 "cells": [
  {
   "cell_type": "code",
   "execution_count": 1,
   "metadata": {},
   "outputs": [
    {
     "name": "stdout",
     "output_type": "stream",
     "text": [
      "WARNING:tensorflow:From /opt/anaconda3/lib/python3.7/site-packages/tensorflow_core/python/compat/v2_compat.py:65: disable_resource_variables (from tensorflow.python.ops.variable_scope) is deprecated and will be removed in a future version.\n",
      "Instructions for updating:\n",
      "non-resource variables are not supported in the long term\n"
     ]
    }
   ],
   "source": [
    "import numpy as np\n",
    "from utils import Util\n",
    "from rbm import RBM\n",
    "from IPython.display import display"
   ]
  },
  {
   "cell_type": "code",
   "execution_count": 2,
   "metadata": {},
   "outputs": [],
   "source": [
    "# import pyspark packages\n",
    "# set the kafka dependencies before create spark context or session\n",
    "import os\n",
    "# os.environ[\n",
    "#     'PYSPARK_SUBMIT_ARGS'] = '--packages org.apache.spark:spark-streaming-kafka-0-8_2.11:2.4.4,org.apache.spark:spark-sql-kafka-0-10_2.11:2.4.4 pyspark-shell'\n",
    "from pyspark.sql import SparkSession, functions, types\n",
    "from pyspark.sql.types import *"
   ]
  },
  {
   "cell_type": "code",
   "execution_count": 3,
   "metadata": {},
   "outputs": [
    {
     "data": {
      "text/html": [
       "\n",
       "            <div>\n",
       "                <p><b>SparkSession - in-memory</b></p>\n",
       "                \n",
       "        <div>\n",
       "            <p><b>SparkContext</b></p>\n",
       "\n",
       "            <p><a href=\"http://192.168.0.138:4041\">Spark UI</a></p>\n",
       "\n",
       "            <dl>\n",
       "              <dt>Version</dt>\n",
       "                <dd><code>v2.4.4</code></dd>\n",
       "              <dt>Master</dt>\n",
       "                <dd><code>local[*]</code></dd>\n",
       "              <dt>AppName</dt>\n",
       "                <dd><code>attraction</code></dd>\n",
       "            </dl>\n",
       "        </div>\n",
       "        \n",
       "            </div>\n",
       "        "
      ],
      "text/plain": [
       "<pyspark.sql.session.SparkSession at 0x7f196af7e160>"
      ]
     },
     "execution_count": 3,
     "metadata": {},
     "output_type": "execute_result"
    }
   ],
   "source": [
    "spark = SparkSession.builder.appName('attraction').getOrCreate()\n",
    "spark"
   ]
  },
  {
   "cell_type": "code",
   "execution_count": 4,
   "metadata": {},
   "outputs": [],
   "source": [
    "# define path\n",
    "ROOT_DIR = os.path.abspath('/home/hduser/document/jupyter/FYP/') \n",
    "tripad_attr_path = ROOT_DIR + '/crawler/datasets/tripadvisor_dataset/attractions/'\n",
    "parquet_path = ROOT_DIR + '/crawler/datasets/tripadvisor_dataset/spark/'"
   ]
  },
  {
   "cell_type": "code",
   "execution_count": 5,
   "metadata": {},
   "outputs": [],
   "source": [
    "epochs = 20\n",
    "rows = 5000\n",
    "alpha = 0.01\n",
    "H = 128\n",
    "batch_size = 8\n",
    "free_energy = True\n",
    "\n",
    "user = 1"
   ]
  },
  {
   "cell_type": "code",
   "execution_count": 6,
   "metadata": {},
   "outputs": [
    {
     "name": "stdout",
     "output_type": "stream",
     "text": [
      "Reading the data from /home/hduser/document/jupyter/FYP/crawler/datasets/tripadvisor_dataset/spark/etl/attractions\n",
      "Reading the data from /home/hduser/document/jupyter/FYP/crawler/datasets/tripadvisor_dataset/spark/etl/attraction_reviews\n"
     ]
    }
   ],
   "source": [
    "util = Util()\n",
    "\n",
    "attractions, ratings = util.read_data(\n",
    "    spark, parquet_path + 'etl/attractions'), util.read_data(\n",
    "        spark, parquet_path + 'etl/attraction_reviews')"
   ]
  },
  {
   "cell_type": "code",
   "execution_count": 11,
   "metadata": {},
   "outputs": [
    {
     "name": "stdout",
     "output_type": "stream",
     "text": [
      "Extracting 5000 rows from ratings\n"
     ]
    }
   ],
   "source": [
    "ratings = util.clean_subset(ratings, rows)\n",
    "num_vis = len(ratings)"
   ]
  },
  {
   "cell_type": "code",
   "execution_count": 12,
   "metadata": {},
   "outputs": [
    {
     "name": "stdout",
     "output_type": "stream",
     "text": [
      "Preprocessing the dataset\n"
     ]
    }
   ],
   "source": [
    "rbm_att, train = util.preprocess(ratings)"
   ]
  },
  {
   "cell_type": "code",
   "execution_count": 17,
   "metadata": {},
   "outputs": [
    {
     "name": "stdout",
     "output_type": "stream",
     "text": [
      "Free energy required, dividing into train and validation sets\n",
      "Total size of the data is: 5000\n",
      "Size of the training data is: 3750\n",
      "Size of the validation data is: 1250\n"
     ]
    }
   ],
   "source": [
    "valid = None\n",
    "if free_energy:\n",
    "    train, valid = util.split_data(train)"
   ]
  },
  {
   "cell_type": "code",
   "execution_count": 13,
   "metadata": {},
   "outputs": [],
   "source": [
    "w = np.random.normal(loc=0, scale=0.01, size=[num_vis, H])"
   ]
  },
  {
   "cell_type": "code",
   "execution_count": 14,
   "metadata": {},
   "outputs": [],
   "source": [
    "rbm = RBM(alpha, H, num_vis)"
   ]
  },
  {
   "cell_type": "code",
   "execution_count": 15,
   "metadata": {},
   "outputs": [],
   "source": [
    "v = True"
   ]
  },
  {
   "cell_type": "markdown",
   "metadata": {},
   "source": [
    "# Training"
   ]
  },
  {
   "cell_type": "code",
   "execution_count": 16,
   "metadata": {},
   "outputs": [
    {
     "data": {
      "text/plain": [
       "'e20_r5000_lr0.01_hu128_bs8'"
      ]
     },
     "execution_count": 16,
     "metadata": {},
     "output_type": "execute_result"
    }
   ],
   "source": [
    "filename = \"e\" + str(epochs) + \"_r\" + str(rows) + \"_lr\" + str(\n",
    "    alpha) + \"_hu\" + str(H) + \"_bs\" + str(batch_size)\n",
    "filename"
   ]
  },
  {
   "cell_type": "code",
   "execution_count": 22,
   "metadata": {},
   "outputs": [
    {
     "name": "stdout",
     "output_type": "stream",
     "text": [
      "Phase 1: Input Processing\n",
      "Phase 2: Reconstruction\n",
      "Creating the gradients\n",
      "Running the session\n",
      "Training RBM with 20 epochs and batch size: 8\n",
      "Starting the training process\n",
      "Error after 1 epochs is: 0.016684403643012047\n",
      "Error after 2 epochs is: 0.0019795603584498167\n",
      "Error after 3 epochs is: 0.0011653952533379197\n",
      "Error after 4 epochs is: 0.0009123391937464476\n",
      "Error after 5 epochs is: 0.0007355285924859345\n",
      "Error after 6 epochs is: 0.0006711659370921552\n",
      "Error after 7 epochs is: 0.0006220992072485387\n",
      "Error after 8 epochs is: 0.0005780779174529016\n",
      "Error after 9 epochs is: 0.0005336618633009493\n",
      "Error after 10 epochs is: 0.0005216939025558531\n",
      "Error after 11 epochs is: 0.0005195391713641584\n",
      "Error after 12 epochs is: 0.0004918272024951875\n",
      "Error after 13 epochs is: 0.00047666989848949015\n",
      "Error after 14 epochs is: 0.00046391249634325504\n",
      "Error after 15 epochs is: 0.0004660458362195641\n",
      "Error after 16 epochs is: 0.00045589118963107467\n",
      "Error after 17 epochs is: 0.0004384938511066139\n",
      "Error after 18 epochs is: 0.0004320938896853477\n",
      "Error after 19 epochs is: 0.0004370965762063861\n",
      "Error after 20 epochs is: 0.00042298450716771185\n",
      "Exporting free energy plot\n",
      "Exporting errors vs epochs plot\n"
     ]
    },
    {
     "data": {
      "image/png": "[encoded data removed]",
      "text/plain": [
       "<Figure size 432x288 with 1 Axes>"
      ]
     },
     "metadata": {
      "needs_background": "light"
     },
     "output_type": "display_data"
    }
   ],
   "source": [
    "reco, prv_w, prv_vb, prv_hb = rbm.training(train, valid, user, epochs,\n",
    "                                           batch_size, free_energy, v,\n",
    "                                           filename)"
   ]
  },
  {
   "cell_type": "code",
   "execution_count": 17,
   "metadata": {},
   "outputs": [
    {
     "data": {
      "text/plain": [
       "'e20_r5000_lr0.01_hu128_bs8'"
      ]
     },
     "execution_count": 17,
     "metadata": {},
     "output_type": "execute_result"
    }
   ],
   "source": [
    "filename"
   ]
  },
  {
   "cell_type": "code",
   "execution_count": 18,
   "metadata": {},
   "outputs": [
    {
     "name": "stdout",
     "output_type": "stream",
     "text": [
      "Model restored\n"
     ]
    }
   ],
   "source": [
    "reco_l, prv_w_l, prv_vb_l, prv_hb_l = rbm.load_predict(filename, train, user)"
   ]
  },
  {
   "cell_type": "code",
   "execution_count": 24,
   "metadata": {},
   "outputs": [
    {
     "name": "stdout",
     "output_type": "stream",
     "text": [
      "Model saved and loaded successfully\n"
     ]
    }
   ],
   "source": [
    "if np.all(prv_w == prv_w_l) and np.all(prv_vb == prv_vb_l) and np.all(\n",
    "        prv_hb == prv_hb_l):\n",
    "    print(\"Model saved and loaded successfully\")"
   ]
  },
  {
   "cell_type": "code",
   "execution_count": 25,
   "metadata": {},
   "outputs": [
    {
     "data": {
      "text/html": [
       "<div>\n",
       "<style scoped>\n",
       "    .dataframe tbody tr th:only-of-type {\n",
       "        vertical-align: middle;\n",
       "    }\n",
       "\n",
       "    .dataframe tbody tr th {\n",
       "        vertical-align: top;\n",
       "    }\n",
       "\n",
       "    .dataframe thead th {\n",
       "        text-align: right;\n",
       "    }\n",
       "</style>\n",
       "<table border=\"1\" class=\"dataframe\">\n",
       "  <thead>\n",
       "    <tr style=\"text-align: right;\">\n",
       "      <th></th>\n",
       "      <th>activityId</th>\n",
       "      <th>Recommendation Score</th>\n",
       "    </tr>\n",
       "  </thead>\n",
       "  <tbody>\n",
       "    <tr>\n",
       "      <th>0</th>\n",
       "      <td>11449623</td>\n",
       "      <td>0.000139</td>\n",
       "    </tr>\n",
       "    <tr>\n",
       "      <th>1</th>\n",
       "      <td>11449646</td>\n",
       "      <td>0.000168</td>\n",
       "    </tr>\n",
       "    <tr>\n",
       "      <th>2</th>\n",
       "      <td>11449648</td>\n",
       "      <td>0.000152</td>\n",
       "    </tr>\n",
       "    <tr>\n",
       "      <th>3</th>\n",
       "      <td>11449649</td>\n",
       "      <td>0.000172</td>\n",
       "    </tr>\n",
       "    <tr>\n",
       "      <th>4</th>\n",
       "      <td>11449657</td>\n",
       "      <td>0.000105</td>\n",
       "    </tr>\n",
       "  </tbody>\n",
       "</table>\n",
       "</div>"
      ],
      "text/plain": [
       "  activityId  Recommendation Score\n",
       "0   11449623              0.000139\n",
       "1   11449646              0.000168\n",
       "2   11449648              0.000152\n",
       "3   11449649              0.000172\n",
       "4   11449657              0.000105"
      ]
     },
     "metadata": {},
     "output_type": "display_data"
    }
   ],
   "source": [
    "unseen, seen = rbm.calculate_scores(ratings, attractions, reco_l, user)"
   ]
  },
  {
   "cell_type": "code",
   "execution_count": 26,
   "metadata": {},
   "outputs": [],
   "source": [
    "rbm.export(unseen, seen, 'rbm_models/' + filename, str(user))"
   ]
  },
  {
   "cell_type": "code",
   "execution_count": null,
   "metadata": {},
   "outputs": [],
   "source": []
  }
 ],
 "metadata": {
  "kernelspec": {
   "display_name": "Python 3",
   "language": "python",
   "name": "python3"
  },
  "language_info": {
   "codemirror_mode": {
    "name": "ipython",
    "version": 3
   },
   "file_extension": ".py",
   "mimetype": "text/x-python",
   "name": "python",
   "nbconvert_exporter": "python",
   "pygments_lexer": "ipython3",
   "version": "3.7.3"
  }
 },
 "nbformat": 4,
 "nbformat_minor": 2
}
