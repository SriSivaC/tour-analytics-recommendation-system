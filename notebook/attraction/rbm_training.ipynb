{
 "cells": [
  {
   "cell_type": "code",
   "execution_count": 2,
   "metadata": {},
   "outputs": [],
   "source": [
    "import os\n",
    "import numpy as np\n",
    "from utils import Util\n",
    "from rbm import RBM\n",
    "from IPython.display import display"
   ]
  },
  {
   "cell_type": "code",
   "execution_count": 3,
   "metadata": {},
   "outputs": [],
   "source": [
    "# import pyspark packages\n",
    "# set the kafka dependencies before create spark context or session\n",
    "import os\n",
    "# os.environ[\n",
    "#     'PYSPARK_SUBMIT_ARGS'] = '--packages org.apache.spark:spark-streaming-kafka-0-8_2.11:2.4.4,org.apache.spark:spark-sql-kafka-0-10_2.11:2.4.4 pyspark-shell'\n",
    "from pyspark.sql import SparkSession, functions, types\n",
    "from pyspark.sql.types import *"
   ]
  },
  {
   "cell_type": "code",
   "execution_count": 4,
   "metadata": {},
   "outputs": [
    {
     "data": {
      "text/html": [
       "\n",
       "            <div>\n",
       "                <p><b>SparkSession - in-memory</b></p>\n",
       "                \n",
       "        <div>\n",
       "            <p><b>SparkContext</b></p>\n",
       "\n",
       "            <p><a href=\"http://10.123.210.3:4042\">Spark UI</a></p>\n",
       "\n",
       "            <dl>\n",
       "              <dt>Version</dt>\n",
       "                <dd><code>v2.4.4</code></dd>\n",
       "              <dt>Master</dt>\n",
       "                <dd><code>local[*]</code></dd>\n",
       "              <dt>AppName</dt>\n",
       "                <dd><code>attraction</code></dd>\n",
       "            </dl>\n",
       "        </div>\n",
       "        \n",
       "            </div>\n",
       "        "
      ],
      "text/plain": [
       "<pyspark.sql.session.SparkSession at 0x7f5813422358>"
      ]
     },
     "execution_count": 4,
     "metadata": {},
     "output_type": "execute_result"
    }
   ],
   "source": [
    "spark = SparkSession.builder.appName('attraction').getOrCreate()\n",
    "spark"
   ]
  },
  {
   "cell_type": "code",
   "execution_count": 5,
   "metadata": {},
   "outputs": [],
   "source": [
    "# define path\n",
    "ROOT_DIR = os.path.abspath('/home/hduser/document/jupyter/FYP/') \n",
    "ds_dir = ROOT_DIR + '/crawler/datasets/tripadvisor_dataset/attractions/'\n",
    "spark_warehouse_dir = ROOT_DIR + '/crawler/datasets/tripadvisor_dataset/attractions/spark-warehouse/'"
   ]
  },
  {
   "cell_type": "code",
   "execution_count": 6,
   "metadata": {},
   "outputs": [],
   "source": [
    "epochs = 20\n",
    "rows = 5000\n",
    "alpha = 0.01\n",
    "H = 128\n",
    "batch_size = 8\n",
    "free_energy = True\n",
    "\n",
    "user = 1"
   ]
  },
  {
   "cell_type": "code",
   "execution_count": 7,
   "metadata": {},
   "outputs": [
    {
     "name": "stdout",
     "output_type": "stream",
     "text": [
      "Reading the data from /home/hduser/document/jupyter/FYP/crawler/datasets/tripadvisor_dataset/attractions/spark-warehouse/etl/attractions\n",
      "Reading the data from /home/hduser/document/jupyter/FYP/crawler/datasets/tripadvisor_dataset/attractions/spark-warehouse/etl/attraction_reviews\n"
     ]
    }
   ],
   "source": [
    "util = Util()\n",
    "\n",
    "attractions, ratings = util.read_data(\n",
    "    spark, spark_warehouse_dir + 'etl/attractions'), util.read_data(\n",
    "        spark, spark_warehouse_dir + 'etl/attraction_reviews')"
   ]
  },
  {
   "cell_type": "code",
   "execution_count": 8,
   "metadata": {},
   "outputs": [
    {
     "name": "stdout",
     "output_type": "stream",
     "text": [
      "Extracting 5000 rows from ratings\n"
     ]
    }
   ],
   "source": [
    "ratings = util.clean_subset(ratings, rows)\n",
    "num_vis = len(ratings)"
   ]
  },
  {
   "cell_type": "code",
   "execution_count": 9,
   "metadata": {},
   "outputs": [
    {
     "name": "stdout",
     "output_type": "stream",
     "text": [
      "Preprocessing the dataset\n"
     ]
    }
   ],
   "source": [
    "rbm_att, train = util.preprocess(ratings)"
   ]
  },
  {
   "cell_type": "code",
   "execution_count": 10,
   "metadata": {},
   "outputs": [
    {
     "name": "stdout",
     "output_type": "stream",
     "text": [
      "Free energy required, dividing into train and validation sets\n",
      "Total size of the data is: 5000\n",
      "Size of the training data is: 3750\n",
      "Size of the validation data is: 1250\n"
     ]
    }
   ],
   "source": [
    "valid = None\n",
    "if free_energy:\n",
    "    train, valid = util.split_data(train)"
   ]
  },
  {
   "cell_type": "code",
   "execution_count": 11,
   "metadata": {},
   "outputs": [],
   "source": [
    "w = np.random.normal(loc=0, scale=0.01, size=[num_vis, H])"
   ]
  },
  {
   "cell_type": "code",
   "execution_count": 12,
   "metadata": {},
   "outputs": [],
   "source": [
    "rbm = RBM(alpha, H, num_vis)"
   ]
  },
  {
   "cell_type": "code",
   "execution_count": 13,
   "metadata": {},
   "outputs": [],
   "source": [
    "v = True"
   ]
  },
  {
   "cell_type": "markdown",
   "metadata": {},
   "source": [
    "# Training"
   ]
  },
  {
   "cell_type": "code",
   "execution_count": 14,
   "metadata": {},
   "outputs": [
    {
     "data": {
      "text/plain": [
       "'e20_r5000_lr0.01_hu128_bs8'"
      ]
     },
     "execution_count": 14,
     "metadata": {},
     "output_type": "execute_result"
    }
   ],
   "source": [
    "filename = \"e\" + str(epochs) + \"_r\" + str(rows) + \"_lr\" + str(\n",
    "    alpha) + \"_hu\" + str(H) + \"_bs\" + str(batch_size)\n",
    "filename"
   ]
  },
  {
   "cell_type": "code",
   "execution_count": 15,
   "metadata": {},
   "outputs": [
    {
     "name": "stdout",
     "output_type": "stream",
     "text": [
      "Phase 1: Input Processing\n",
      "Phase 2: Reconstruction\n",
      "Creating the gradients\n",
      "Running the session\n",
      "Training RBM with 20 epochs and batch size: 8\n",
      "Starting the training process\n",
      "Error after 1 epochs is: 0.01674000173807144\n",
      "Error after 2 epochs is: 0.0019892072305083275\n",
      "Error after 3 epochs is: 0.0011592981172725558\n",
      "Error after 4 epochs is: 0.0008876501233316958\n",
      "Error after 5 epochs is: 0.0007692181970924139\n",
      "Error after 6 epochs is: 0.0006757248193025589\n",
      "Error after 7 epochs is: 0.000606530113145709\n",
      "Error after 8 epochs is: 0.0005694528226740658\n",
      "Error after 9 epochs is: 0.0005433195037767291\n",
      "Error after 10 epochs is: 0.0005163541645742953\n",
      "Error after 11 epochs is: 0.0004948928253725171\n",
      "Error after 12 epochs is: 0.0004924287786707282\n",
      "Error after 13 epochs is: 0.0004775701672770083\n",
      "Error after 14 epochs is: 0.00045403948752209544\n",
      "Error after 15 epochs is: 0.0004481087962631136\n",
      "Error after 16 epochs is: 0.0004413888091221452\n",
      "Error after 17 epochs is: 0.0004276075051166117\n",
      "Error after 18 epochs is: 0.00042481280979700387\n",
      "Error after 19 epochs is: 0.0004241941496729851\n",
      "Error after 20 epochs is: 0.0004227967874612659\n",
      "Exporting free energy plot\n",
      "Exporting errors vs epochs plot\n"
     ]
    },
    {
     "data": {
      "image/png": "[encoded data removed]",
      "text/plain": [
       "<Figure size 432x288 with 1 Axes>"
      ]
     },
     "metadata": {
      "needs_background": "light"
     },
     "output_type": "display_data"
    }
   ],
   "source": [
    "reco, prv_w, prv_vb, prv_hb = rbm.training(train, valid, user, epochs,\n",
    "                                           batch_size, free_energy, v,\n",
    "                                           filename)"
   ]
  },
  {
   "cell_type": "code",
   "execution_count": 16,
   "metadata": {},
   "outputs": [
    {
     "name": "stdout",
     "output_type": "stream",
     "text": [
      "Model restored\n"
     ]
    }
   ],
   "source": [
    "reco_l, prv_w_l, prv_vb_l, prv_hb_l = rbm.load_predict(filename, train, user)"
   ]
  },
  {
   "cell_type": "code",
   "execution_count": 17,
   "metadata": {},
   "outputs": [
    {
     "name": "stdout",
     "output_type": "stream",
     "text": [
      "Model saved and loaded successfully\n"
     ]
    }
   ],
   "source": [
    "if np.all(prv_w == prv_w_l) and np.all(prv_vb == prv_vb_l) and np.all(\n",
    "        prv_hb == prv_hb_l):\n",
    "    print(\"Model saved and loaded successfully\")"
   ]
  },
  {
   "cell_type": "code",
   "execution_count": 18,
   "metadata": {},
   "outputs": [
    {
     "data": {
      "text/html": [
       "<div>\n",
       "<style scoped>\n",
       "    .dataframe tbody tr th:only-of-type {\n",
       "        vertical-align: middle;\n",
       "    }\n",
       "\n",
       "    .dataframe tbody tr th {\n",
       "        vertical-align: top;\n",
       "    }\n",
       "\n",
       "    .dataframe thead th {\n",
       "        text-align: right;\n",
       "    }\n",
       "</style>\n",
       "<table border=\"1\" class=\"dataframe\">\n",
       "  <thead>\n",
       "    <tr style=\"text-align: right;\">\n",
       "      <th></th>\n",
       "      <th>activityId</th>\n",
       "      <th>Recommendation Score</th>\n",
       "    </tr>\n",
       "  </thead>\n",
       "  <tbody>\n",
       "    <tr>\n",
       "      <th>0</th>\n",
       "      <td>11449623</td>\n",
       "      <td>0.000132</td>\n",
       "    </tr>\n",
       "    <tr>\n",
       "      <th>1</th>\n",
       "      <td>11449646</td>\n",
       "      <td>0.000128</td>\n",
       "    </tr>\n",
       "    <tr>\n",
       "      <th>2</th>\n",
       "      <td>11449648</td>\n",
       "      <td>0.000106</td>\n",
       "    </tr>\n",
       "    <tr>\n",
       "      <th>3</th>\n",
       "      <td>11449649</td>\n",
       "      <td>0.000118</td>\n",
       "    </tr>\n",
       "    <tr>\n",
       "      <th>4</th>\n",
       "      <td>11449657</td>\n",
       "      <td>0.000092</td>\n",
       "    </tr>\n",
       "  </tbody>\n",
       "</table>\n",
       "</div>"
      ],
      "text/plain": [
       "  activityId  Recommendation Score\n",
       "0   11449623              0.000132\n",
       "1   11449646              0.000128\n",
       "2   11449648              0.000106\n",
       "3   11449649              0.000118\n",
       "4   11449657              0.000092"
      ]
     },
     "metadata": {},
     "output_type": "display_data"
    }
   ],
   "source": [
    "unseen, seen = rbm.calculate_scores(ratings, attractions, reco_l, user)"
   ]
  },
  {
   "cell_type": "code",
   "execution_count": 19,
   "metadata": {},
   "outputs": [],
   "source": [
    "rbm.export(unseen, seen, 'rbm_models/' + filename, str(user))"
   ]
  },
  {
   "cell_type": "code",
   "execution_count": null,
   "metadata": {},
   "outputs": [],
   "source": []
  }
 ],
 "metadata": {
  "kernelspec": {
   "display_name": "Python 3",
   "language": "python",
   "name": "python3"
  },
  "language_info": {
   "codemirror_mode": {
    "name": "ipython",
    "version": 3
   },
   "file_extension": ".py",
   "mimetype": "text/x-python",
   "name": "python",
   "nbconvert_exporter": "python",
   "pygments_lexer": "ipython3",
   "version": "3.7.3"
  }
 },
 "nbformat": 4,
 "nbformat_minor": 2
}
