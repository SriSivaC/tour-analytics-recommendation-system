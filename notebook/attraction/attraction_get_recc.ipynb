{
 "cells": [
  {
   "cell_type": "code",
   "execution_count": 19,
   "metadata": {},
   "outputs": [],
   "source": [
    "# import project directory helper\n",
    "import os, sys, inspect\n",
    "ROOT_DIR = os.path.abspath('/home/hduser/document/jupyter/FYP/') \n",
    "sys.path.insert(0, ROOT_DIR)"
   ]
  },
  {
   "cell_type": "code",
   "execution_count": 174,
   "metadata": {},
   "outputs": [],
   "source": [
    "# import util packages\n",
    "from IPython.display import display\n",
    "import ipywidgets as w\n",
    "import pandas as pd\n",
    "import re"
   ]
  },
  {
   "cell_type": "code",
   "execution_count": 26,
   "metadata": {},
   "outputs": [],
   "source": [
    "# import pyspark packages\n",
    "# set the kafka dependencies before create spark context or session\n",
    "import os\n",
    "os.environ[\n",
    "    'PYSPARK_SUBMIT_ARGS'] = '--packages org.apache.spark:spark-streaming-kafka-0-8_2.11:2.4.4,org.apache.spark:spark-sql-kafka-0-10_2.11:2.4.4 pyspark-shell'\n",
    "from pyspark.sql import SparkSession, functions, types\n",
    "from pyspark.sql.types import *"
   ]
  },
  {
   "cell_type": "code",
   "execution_count": 27,
   "metadata": {},
   "outputs": [
    {
     "data": {
      "text/html": [
       "\n",
       "            <div>\n",
       "                <p><b>SparkSession - in-memory</b></p>\n",
       "                \n",
       "        <div>\n",
       "            <p><b>SparkContext</b></p>\n",
       "\n",
       "            <p><a href=\"http://192.168.0.138:4040\">Spark UI</a></p>\n",
       "\n",
       "            <dl>\n",
       "              <dt>Version</dt>\n",
       "                <dd><code>v2.4.4</code></dd>\n",
       "              <dt>Master</dt>\n",
       "                <dd><code>local[*]</code></dd>\n",
       "              <dt>AppName</dt>\n",
       "                <dd><code>attraction</code></dd>\n",
       "            </dl>\n",
       "        </div>\n",
       "        \n",
       "            </div>\n",
       "        "
      ],
      "text/plain": [
       "<pyspark.sql.session.SparkSession at 0x7f40da62f630>"
      ]
     },
     "execution_count": 27,
     "metadata": {},
     "output_type": "execute_result"
    }
   ],
   "source": [
    "spark = SparkSession.builder.appName('attraction').getOrCreate()\n",
    "spark"
   ]
  },
  {
   "cell_type": "code",
   "execution_count": 29,
   "metadata": {},
   "outputs": [],
   "source": [
    "# define path\n",
    "tripad_attr_path = ROOT_DIR + '/crawler/datasets/tripadvisor_dataset/attractions/'\n",
    "parquet_path = ROOT_DIR + '/crawler/datasets/tripadvisor_dataset/spark/'"
   ]
  },
  {
   "cell_type": "code",
   "execution_count": 55,
   "metadata": {},
   "outputs": [],
   "source": [
    "# read spark dataframe from parquet\n",
    "final_attr_spark_df = spark.read.parquet(parquet_path + 'etl/attractions')"
   ]
  },
  {
   "cell_type": "code",
   "execution_count": 56,
   "metadata": {},
   "outputs": [],
   "source": [
    "final_attr_spark_df.createOrReplaceTempView('final_attr_spark_df')"
   ]
  },
  {
   "cell_type": "code",
   "execution_count": 57,
   "metadata": {},
   "outputs": [
    {
     "data": {
      "text/plain": [
       "Column<b'price'>"
      ]
     },
     "execution_count": 57,
     "metadata": {},
     "output_type": "execute_result"
    }
   ],
   "source": [
    "final_attr_spark_df.price"
   ]
  },
  {
   "cell_type": "code",
   "execution_count": 58,
   "metadata": {},
   "outputs": [],
   "source": [
    "attr_price_spark_df = spark.sql(\n",
    "    \"SELECT MIN(price) as min_price, MAX(price) as max_price FROM final_attr_spark_df\"\n",
    ")"
   ]
  },
  {
   "cell_type": "code",
   "execution_count": 63,
   "metadata": {},
   "outputs": [],
   "source": [
    "attr_price_df = attr_price_spark_df.toPandas()"
   ]
  },
  {
   "cell_type": "code",
   "execution_count": 64,
   "metadata": {},
   "outputs": [],
   "source": [
    "attr_category_df = final_attr_spark_df.select(final_attr_spark_df.category).distinct().toPandas()"
   ]
  },
  {
   "cell_type": "markdown",
   "metadata": {},
   "source": [
    "# User details and Preferences"
   ]
  },
  {
   "cell_type": "code",
   "execution_count": 204,
   "metadata": {},
   "outputs": [
    {
     "data": {
      "application/vnd.jupyter.widget-view+json": {
       "model_id": "47df7d5bd2164a1eaf4d8677c4ac32d5",
       "version_major": 2,
       "version_minor": 0
      },
      "text/plain": [
       "HBox(children=(VBox(children=(Text(value='', description='User Name', placeholder='Liho'), Text(value='', desc…"
      ]
     },
     "metadata": {},
     "output_type": "display_data"
    }
   ],
   "source": [
    "w_uname = w.Text(placeholder='Liho', description=\"User Name\")\n",
    "w_destination = w.Text(placeholder='Kuala Lumpur', description=\"Destination\")\n",
    "w_budget = w.IntRangeSlider(\n",
    "    min=attr_price_df.min_price[0],\n",
    "    max=attr_price_df.max_price[0],\n",
    "    step=10,\n",
    "    value=[attr_price_df.min_price[0], attr_price_df.max_price[0]],\n",
    "    description=\"Budget\")\n",
    "v1 = w.VBox([uname, place])\n",
    "\n",
    "w_start_date = w.DatePicker(description='Start Date', disabled=False)\n",
    "w_end_date = w.DatePicker(description='End Date', disabled=False)\n",
    "v2 = w.VBox([start, end])\n",
    "\n",
    "out = w.HBox([v1, v2, budget])\n",
    "display(out)"
   ]
  },
  {
   "cell_type": "code",
   "execution_count": 205,
   "metadata": {},
   "outputs": [],
   "source": [
    "attr_category_list = attr_category_df.category.tolist()"
   ]
  },
  {
   "cell_type": "code",
   "execution_count": 206,
   "metadata": {},
   "outputs": [],
   "source": [
    "attr_category_title_list = [' '.join(i.split('_')).title() for i in attr_category_list]"
   ]
  },
  {
   "cell_type": "code",
   "execution_count": 211,
   "metadata": {},
   "outputs": [],
   "source": [
    "w_cat_rating = dict()\n",
    "\n",
    "\n",
    "def btn_cat_rating(btn):\n",
    "    cat = '_'.join(btn.description.split(' ')).lower()\n",
    "\n",
    "    if cat in w_cat_rating:\n",
    "        return\n",
    "    print(btn.description)\n",
    "    slider = w.IntSlider(min=0, max=5, step=1, description='Rate')\n",
    "    display(slider)\n",
    "    w_cat_rating[cat] = slider\n",
    "    if (len(w_cat_rating) < 5):\n",
    "        print(\"Rate {x} more!\\n\".format(x=5 - len(w_cat_rating)))"
   ]
  },
  {
   "cell_type": "code",
   "execution_count": 212,
   "metadata": {},
   "outputs": [
    {
     "name": "stdout",
     "output_type": "stream",
     "text": [
      "Select and rate at least 5 categories and rate them: \n"
     ]
    },
    {
     "data": {
      "application/vnd.jupyter.widget-view+json": {
       "model_id": "dfd7393d953e4dd2b69b5854f516e66c",
       "version_major": 2,
       "version_minor": 0
      },
      "text/plain": [
       "GridBox(children=(Button(description='Air Helicopter Balloon Tours', layout=Layout(border='1px solid black', h…"
      ]
     },
     "metadata": {},
     "output_type": "display_data"
    },
    {
     "name": "stdout",
     "output_type": "stream",
     "text": [
      "Cruises Sailing Water Tours\n"
     ]
    },
    {
     "data": {
      "application/vnd.jupyter.widget-view+json": {
       "model_id": "2bcb8ee9ea94480ba763c96f3669cad6",
       "version_major": 2,
       "version_minor": 0
      },
      "text/plain": [
       "IntSlider(value=0, description='Rate', max=5)"
      ]
     },
     "metadata": {},
     "output_type": "display_data"
    },
    {
     "name": "stdout",
     "output_type": "stream",
     "text": [
      "Rate 4 more!\n",
      "\n",
      "Shows Concerts Sports\n"
     ]
    },
    {
     "data": {
      "application/vnd.jupyter.widget-view+json": {
       "model_id": "255af275532542199ae1516f25d108c0",
       "version_major": 2,
       "version_minor": 0
      },
      "text/plain": [
       "IntSlider(value=0, description='Rate', max=5)"
      ]
     },
     "metadata": {},
     "output_type": "display_data"
    },
    {
     "name": "stdout",
     "output_type": "stream",
     "text": [
      "Rate 3 more!\n",
      "\n",
      "Weddings Honeymoons\n"
     ]
    },
    {
     "data": {
      "application/vnd.jupyter.widget-view+json": {
       "model_id": "733f3b781c2a448d923c0444f9e1cb41",
       "version_major": 2,
       "version_minor": 0
      },
      "text/plain": [
       "IntSlider(value=0, description='Rate', max=5)"
      ]
     },
     "metadata": {},
     "output_type": "display_data"
    },
    {
     "name": "stdout",
     "output_type": "stream",
     "text": [
      "Rate 2 more!\n",
      "\n"
     ]
    }
   ],
   "source": [
    "button_layout = w.Layout(width='100%', height='50px', border=\"1px solid black\")\n",
    "button_items = [\n",
    "    w.Button(description=cat, layout=button_layout)\n",
    "    for cat in attr_category_title_list\n",
    "]\n",
    "\n",
    "on_click = [item.on_click(btn_cat_rating) for item in button_items]\n",
    "\n",
    "buttons = w.GridBox(button_items,\n",
    "                    layout=w.Layout(grid_template_columns=\"repeat(4, 24%)\"))\n",
    "\n",
    "print(\"Select and rate at least 5 categories and rate them: \")\n",
    "display(buttons)"
   ]
  },
  {
   "cell_type": "code",
   "execution_count": 229,
   "metadata": {},
   "outputs": [],
   "source": [
    "uname = re.sub(' ', '_', w_uname.value.lower())\n",
    "destination = re.sub(' ', '_', w_destination.value.lower())\n",
    "\n",
    "(budget_low, budget_high) = tuple([float(i) for i in w_budget.value])\n",
    "\n",
    "start_date = w_start_date.value\n",
    "end_date = w_end_date.value\n",
    "    \n",
    "cat_rating = {key: float(value.value) for key, value in w_cat_rating.items()}"
   ]
  },
  {
   "cell_type": "code",
   "execution_count": null,
   "metadata": {},
   "outputs": [],
   "source": []
  },
  {
   "cell_type": "code",
   "execution_count": null,
   "metadata": {},
   "outputs": [],
   "source": []
  },
  {
   "cell_type": "code",
   "execution_count": null,
   "metadata": {},
   "outputs": [],
   "source": []
  },
  {
   "cell_type": "code",
   "execution_count": null,
   "metadata": {},
   "outputs": [],
   "source": []
  },
  {
   "cell_type": "code",
   "execution_count": null,
   "metadata": {},
   "outputs": [],
   "source": []
  }
 ],
 "metadata": {
  "kernelspec": {
   "display_name": "Python 3",
   "language": "python",
   "name": "python3"
  },
  "language_info": {
   "codemirror_mode": {
    "name": "ipython",
    "version": 3
   },
   "file_extension": ".py",
   "mimetype": "text/x-python",
   "name": "python",
   "nbconvert_exporter": "python",
   "pygments_lexer": "ipython3",
   "version": "3.7.3"
  }
 },
 "nbformat": 4,
 "nbformat_minor": 2
}
