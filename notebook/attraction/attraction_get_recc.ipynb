{
 "cells": [
  {
   "cell_type": "code",
   "execution_count": 1,
   "metadata": {},
   "outputs": [],
   "source": [
    "# import project directory helper\n",
    "import os, sys\n",
    "ROOT_DIR = os.path.abspath('/home/hduser/document/jupyter/FYP/') \n",
    "sys.path.insert(0, ROOT_DIR)"
   ]
  },
  {
   "cell_type": "code",
   "execution_count": 2,
   "metadata": {},
   "outputs": [],
   "source": [
    "# import util packages\n",
    "from IPython.display import display\n",
    "import ipywidgets as w\n",
    "import pandas as pd\n",
    "import re"
   ]
  },
  {
   "cell_type": "code",
   "execution_count": 3,
   "metadata": {},
   "outputs": [],
   "source": [
    "# import pyspark packages\n",
    "# set the kafka dependencies before create spark context or session\n",
    "# import os\n",
    "# os.environ[\n",
    "#     'PYSPARK_SUBMIT_ARGS'] = '--packages org.apache.spark:spark-streaming-kafka-0-8_2.11:2.4.4,org.apache.spark:spark-sql-kafka-0-10_2.11:2.4.4 pyspark-shell'\n",
    "from pyspark.sql import SparkSession\n",
    "# from pyspark.sql.types import *"
   ]
  },
  {
   "cell_type": "code",
   "execution_count": 4,
   "metadata": {},
   "outputs": [
    {
     "data": {
      "text/html": [
       "\n",
       "            <div>\n",
       "                <p><b>SparkSession - in-memory</b></p>\n",
       "                \n",
       "        <div>\n",
       "            <p><b>SparkContext</b></p>\n",
       "\n",
       "            <p><a href=\"http://172.16.41.174:4040\">Spark UI</a></p>\n",
       "\n",
       "            <dl>\n",
       "              <dt>Version</dt>\n",
       "                <dd><code>v2.4.4</code></dd>\n",
       "              <dt>Master</dt>\n",
       "                <dd><code>local[*]</code></dd>\n",
       "              <dt>AppName</dt>\n",
       "                <dd><code>attraction</code></dd>\n",
       "            </dl>\n",
       "        </div>\n",
       "        \n",
       "            </div>\n",
       "        "
      ],
      "text/plain": [
       "<pyspark.sql.session.SparkSession at 0x7f9cfa3739b0>"
      ]
     },
     "execution_count": 4,
     "metadata": {},
     "output_type": "execute_result"
    }
   ],
   "source": [
    "spark = SparkSession.builder.appName('attraction').getOrCreate()\n",
    "spark"
   ]
  },
  {
   "cell_type": "code",
   "execution_count": 5,
   "metadata": {},
   "outputs": [],
   "source": [
    "# define path\n",
    "ds_dir = ROOT_DIR + '/crawler/datasets/tripadvisor_dataset/attractions/'\n",
    "spark_warehouse_dir = ROOT_DIR + '/crawler/datasets/tripadvisor_dataset/attractions/spark-warehouse/'"
   ]
  },
  {
   "cell_type": "code",
   "execution_count": 6,
   "metadata": {},
   "outputs": [],
   "source": [
    "# read spark dataframe from parquet\n",
    "final_attr_spark_df = spark.read.parquet(spark_warehouse_dir + 'etl/attractions')"
   ]
  },
  {
   "cell_type": "code",
   "execution_count": 7,
   "metadata": {},
   "outputs": [],
   "source": [
    "final_attr_spark_df.createOrReplaceTempView('final_attr_spark_df')"
   ]
  },
  {
   "cell_type": "code",
   "execution_count": 8,
   "metadata": {},
   "outputs": [],
   "source": [
    "attr_price_spark_df = spark.sql(\n",
    "    \"SELECT MIN(price) as min_price, MAX(price) as max_price FROM final_attr_spark_df\"\n",
    ")"
   ]
  },
  {
   "cell_type": "code",
   "execution_count": 9,
   "metadata": {},
   "outputs": [],
   "source": [
    "attr_price_df = attr_price_spark_df.toPandas()"
   ]
  },
  {
   "cell_type": "code",
   "execution_count": 10,
   "metadata": {},
   "outputs": [],
   "source": [
    "attr_category_df = final_attr_spark_df.select(final_attr_spark_df.category).distinct().toPandas()"
   ]
  },
  {
   "cell_type": "code",
   "execution_count": 11,
   "metadata": {},
   "outputs": [],
   "source": [
    "attr_city_df = final_attr_spark_df.select(final_attr_spark_df.city).distinct().toPandas()"
   ]
  },
  {
   "cell_type": "markdown",
   "metadata": {},
   "source": [
    "# User details and Preferences"
   ]
  },
  {
   "cell_type": "code",
   "execution_count": 12,
   "metadata": {},
   "outputs": [
    {
     "data": {
      "application/vnd.jupyter.widget-view+json": {
       "model_id": "bcd20b8356a744079f9e0fbaf34af958",
       "version_major": 2,
       "version_minor": 0
      },
      "text/plain": [
       "HBox(children=(VBox(children=(Text(value='', description='User Name', placeholder='Liho'), Dropdown(descriptio…"
      ]
     },
     "metadata": {},
     "output_type": "display_data"
    }
   ],
   "source": [
    "w_uname = w.Text(placeholder='Liho', description=\"User Name\")\n",
    "w_destination = w.Dropdown(options=attr_city_df.city.tolist(),\n",
    "                           value='Kuala Lumpur',\n",
    "                           placeholder='Kuala Lumpur',\n",
    "                           description=\"Destination\")\n",
    "w_budget = w.IntRangeSlider(\n",
    "    min=attr_price_df.min_price[0],\n",
    "    max=attr_price_df.max_price[0],\n",
    "    step=10,\n",
    "    value=[attr_price_df.min_price[0], attr_price_df.max_price[0]],\n",
    "    description=\"Budget\")\n",
    "v1 = w.VBox([w_uname, w_destination])\n",
    "\n",
    "w_start_date = w.DatePicker(description='Start Date', disabled=False)\n",
    "w_end_date = w.DatePicker(description='End Date', disabled=False)\n",
    "v2 = w.VBox([w_start_date, w_end_date])\n",
    "\n",
    "out = w.HBox([v1, v2, w_budget])\n",
    "display(out)"
   ]
  },
  {
   "cell_type": "code",
   "execution_count": 13,
   "metadata": {},
   "outputs": [],
   "source": [
    "attr_category_list = attr_category_df.category.tolist()"
   ]
  },
  {
   "cell_type": "code",
   "execution_count": 14,
   "metadata": {},
   "outputs": [],
   "source": [
    "attr_category_title_list = [' '.join(i.split('_')).title() for i in attr_category_list]"
   ]
  },
  {
   "cell_type": "code",
   "execution_count": 15,
   "metadata": {},
   "outputs": [],
   "source": [
    "w_cat_rating = dict()\n",
    "\n",
    "\n",
    "def btn_cat_rating(btn):\n",
    "    cat = '_'.join(btn.description.split(' ')).lower()\n",
    "\n",
    "    if cat in w_cat_rating:\n",
    "        return\n",
    "    print(btn.description)\n",
    "    slider = w.IntSlider(min=0, max=5, step=1, description='Rate')\n",
    "    display(slider)\n",
    "    w_cat_rating[cat] = slider\n",
    "    if (len(w_cat_rating) < 5):\n",
    "        print(\"Rate {x} more!\\n\".format(x=5 - len(w_cat_rating)))"
   ]
  },
  {
   "cell_type": "code",
   "execution_count": 16,
   "metadata": {},
   "outputs": [
    {
     "name": "stdout",
     "output_type": "stream",
     "text": [
      "Select and rate at least 5 categories and rate them: \n"
     ]
    },
    {
     "data": {
      "application/vnd.jupyter.widget-view+json": {
       "model_id": "6e3dd1b0de8641d3933bf7ffaa468470",
       "version_major": 2,
       "version_minor": 0
      },
      "text/plain": [
       "GridBox(children=(Button(description='Air Helicopter Balloon Tours', layout=Layout(border='1px solid black', h…"
      ]
     },
     "metadata": {},
     "output_type": "display_data"
    },
    {
     "name": "stdout",
     "output_type": "stream",
     "text": [
      "Theme Parks\n"
     ]
    },
    {
     "data": {
      "application/vnd.jupyter.widget-view+json": {
       "model_id": "e3100d75192b4b7581abf47fc95dabdc",
       "version_major": 2,
       "version_minor": 0
      },
      "text/plain": [
       "IntSlider(value=0, description='Rate', max=5)"
      ]
     },
     "metadata": {},
     "output_type": "display_data"
    },
    {
     "name": "stdout",
     "output_type": "stream",
     "text": [
      "Rate 4 more!\n",
      "\n",
      "Transfers Ground Transport\n"
     ]
    },
    {
     "data": {
      "application/vnd.jupyter.widget-view+json": {
       "model_id": "7bcd2062736242ddb37a5e3235abc974",
       "version_major": 2,
       "version_minor": 0
      },
      "text/plain": [
       "IntSlider(value=0, description='Rate', max=5)"
      ]
     },
     "metadata": {},
     "output_type": "display_data"
    },
    {
     "name": "stdout",
     "output_type": "stream",
     "text": [
      "Rate 3 more!\n",
      "\n",
      "Outdoor Activities\n"
     ]
    },
    {
     "data": {
      "application/vnd.jupyter.widget-view+json": {
       "model_id": "ee651096dda449169fd567af3026ebe6",
       "version_major": 2,
       "version_minor": 0
      },
      "text/plain": [
       "IntSlider(value=0, description='Rate', max=5)"
      ]
     },
     "metadata": {},
     "output_type": "display_data"
    },
    {
     "name": "stdout",
     "output_type": "stream",
     "text": [
      "Rate 2 more!\n",
      "\n"
     ]
    }
   ],
   "source": [
    "button_layout = w.Layout(width='100%', height='50px', border=\"1px solid black\")\n",
    "button_items = [\n",
    "    w.Button(description=cat, layout=button_layout)\n",
    "    for cat in attr_category_title_list\n",
    "]\n",
    "\n",
    "on_click = [item.on_click(btn_cat_rating) for item in button_items]\n",
    "\n",
    "buttons = w.GridBox(button_items,\n",
    "                    layout=w.Layout(grid_template_columns=\"repeat(4, 24%)\"))\n",
    "\n",
    "print(\"Select and rate at least 5 categories and rate them: \")\n",
    "display(buttons)"
   ]
  },
  {
   "cell_type": "code",
   "execution_count": 26,
   "metadata": {},
   "outputs": [],
   "source": [
    "uname = re.sub(' ', '_', w_uname.value.lower())\n",
    "destination = w_destination.value\n",
    "\n",
    "(budget_low, budget_high) = tuple([float(i) for i in w_budget.value])\n",
    "\n",
    "start_date = w_start_date.value\n",
    "end_date = w_end_date.value\n",
    "    \n",
    "cat_rating = {key: float(value.value) for key, value in w_cat_rating.items()}"
   ]
  },
  {
   "cell_type": "markdown",
   "metadata": {},
   "source": [
    "# Model recommendation and filtering"
   ]
  },
  {
   "cell_type": "code",
   "execution_count": 95,
   "metadata": {},
   "outputs": [],
   "source": [
    "from attraction_recc import *"
   ]
  },
  {
   "cell_type": "code",
   "execution_count": 96,
   "metadata": {},
   "outputs": [],
   "source": [
    "hyperparameter = {\n",
    "    'rows': 5000,\n",
    "    'epochs': 20,\n",
    "    'batch_size': 8,\n",
    "    'alpha': 0.01,\n",
    "    'H': 128\n",
    "}\n",
    "# hyperparameter = {\n",
    "#     'rows': 40000,\n",
    "#     'epochs': 50,\n",
    "#     'batch_size': 16,\n",
    "#     'alpha': 0.01,\n",
    "#     'H': 128\n",
    "# }"
   ]
  },
  {
   "cell_type": "code",
   "execution_count": 97,
   "metadata": {},
   "outputs": [
    {
     "name": "stdout",
     "output_type": "stream",
     "text": [
      "Reading the data from /home/hduser/document/jupyter/FYP/crawler/datasets/tripadvisor_dataset/attractions/spark-warehouse/etl/attractions\n",
      "Reading the data from /home/hduser/document/jupyter/FYP/crawler/datasets/tripadvisor_dataset/attractions/spark-warehouse/etl/attraction_reviews\n",
      "Extracting 5000 rows from ratings\n",
      "Preprocessing the dataset\n",
      "Similar User: 2499\n",
      "Model restored\n"
     ]
    },
    {
     "data": {
      "text/html": [
       "<div>\n",
       "<style scoped>\n",
       "    .dataframe tbody tr th:only-of-type {\n",
       "        vertical-align: middle;\n",
       "    }\n",
       "\n",
       "    .dataframe tbody tr th {\n",
       "        vertical-align: top;\n",
       "    }\n",
       "\n",
       "    .dataframe thead th {\n",
       "        text-align: right;\n",
       "    }\n",
       "</style>\n",
       "<table border=\"1\" class=\"dataframe\">\n",
       "  <thead>\n",
       "    <tr style=\"text-align: right;\">\n",
       "      <th></th>\n",
       "      <th>activityId</th>\n",
       "      <th>Recommendation Score</th>\n",
       "    </tr>\n",
       "  </thead>\n",
       "  <tbody>\n",
       "    <tr>\n",
       "      <th>0</th>\n",
       "      <td>11449623</td>\n",
       "      <td>0.000131</td>\n",
       "    </tr>\n",
       "    <tr>\n",
       "      <th>1</th>\n",
       "      <td>11449646</td>\n",
       "      <td>0.000127</td>\n",
       "    </tr>\n",
       "    <tr>\n",
       "      <th>2</th>\n",
       "      <td>11449648</td>\n",
       "      <td>0.000104</td>\n",
       "    </tr>\n",
       "    <tr>\n",
       "      <th>3</th>\n",
       "      <td>11449649</td>\n",
       "      <td>0.000117</td>\n",
       "    </tr>\n",
       "    <tr>\n",
       "      <th>4</th>\n",
       "      <td>11449657</td>\n",
       "      <td>0.000091</td>\n",
       "    </tr>\n",
       "  </tbody>\n",
       "</table>\n",
       "</div>"
      ],
      "text/plain": [
       "  activityId  Recommendation Score\n",
       "0   11449623              0.000131\n",
       "1   11449646              0.000127\n",
       "2   11449648              0.000104\n",
       "3   11449649              0.000117\n",
       "4   11449657              0.000091"
      ]
     },
     "metadata": {},
     "output_type": "display_data"
    }
   ],
   "source": [
    "filename, user, rbm_att = get_recc(spark, cat_rating, hyperparameter)"
   ]
  },
  {
   "cell_type": "code",
   "execution_count": 98,
   "metadata": {},
   "outputs": [],
   "source": [
    "with_url = filter_df(spark, filename, user, budget_low, budget_high,\n",
    "                     destination, final_attr_spark_df.toPandas())"
   ]
  },
  {
   "cell_type": "code",
   "execution_count": 99,
   "metadata": {},
   "outputs": [
    {
     "name": "stdout",
     "output_type": "stream",
     "text": [
      "\n",
      "Item no.: 1 --> Item name = Half-Day Penang Countryside Cycling Tour\n",
      "Evaluating...\n",
      "Getting URLs without downloading images...\n",
      "Image URL: https://media-cdn.tripadvisor.com/media/attractions-splice-spp-540x360/06/70/63/fd.jpg\n",
      "Printed url without downloading\n",
      "\n",
      "Errors: 0\n",
      "\n",
      "\n",
      "Item no.: 1 --> Item name = Penang Tour: Penang Hill and Kek Lok Si Temple\n",
      "Evaluating...\n",
      "Getting URLs without downloading images...\n",
      "Image URL: https://media-cdn.tripadvisor.com/media/attractions-splice-spp-540x360/06/71/a4/2f.jpg\n",
      "Printed url without downloading\n",
      "\n",
      "Errors: 0\n",
      "\n",
      "\n",
      "Item no.: 1 --> Item name = Penang City Sightseeing Tour\n",
      "Evaluating...\n",
      "Getting URLs without downloading images...\n",
      "Image URL: http://www.myhoponhopoff.com/pg/images/citytour-details.jpg\n",
      "Printed url without downloading\n",
      "\n",
      "Errors: 0\n",
      "\n",
      "\n",
      "Item no.: 1 --> Item name = Pinang Peranakan Museum Admission Ticket\n",
      "Evaluating...\n",
      "Getting URLs without downloading images...\n",
      "Image URL: http://www.pinangperanakanmansion.com.my/images/banner_entrance.jpg\n",
      "Printed url without downloading\n",
      "\n",
      "Errors: 0\n",
      "\n"
     ]
    }
   ],
   "source": [
    "final = get_recc_final(with_url, start_date, end_date)"
   ]
  },
  {
   "cell_type": "code",
   "execution_count": 121,
   "metadata": {},
   "outputs": [
    {
     "data": {
      "text/plain": [
       "{'timeofday': ['Morning', 'Morning', 'Evening', 'Evening'],\n",
       " 'name': ['Half-Day Penang Countryside Cycling Tour',\n",
       "  'Penang Tour: Penang Hill and Kek Lok Si Temple',\n",
       "  'Penang City Sightseeing Tour',\n",
       "  'Pinang Peranakan Museum Admission Ticket'],\n",
       " 'location': [['5.411938', '100.32664'],\n",
       "  ['5.411938', '100.32664'],\n",
       "  ['5.411938', '100.32664'],\n",
       "  ['5.411938', '100.32664']],\n",
       " 'price': [115.81, 253.61, 343.86, 32.6],\n",
       " 'rating': [5.0, 4.0, 4.5, 5.0],\n",
       " 'category': ['featured_tours_and_tickets',\n",
       "  'private_custom_tours',\n",
       "  'recommended_experiences',\n",
       "  'sightseeing_tickets_passes'],\n",
       " 'image': ['https://media-cdn.tripadvisor.com/media/attractions-splice-spp-540x360/06/70/63/fd.jpg',\n",
       "  'https://media-cdn.tripadvisor.com/media/attractions-splice-spp-540x360/06/71/a4/2f.jpg',\n",
       "  'http://www.myhoponhopoff.com/pg/images/citytour-details.jpg',\n",
       "  'http://www.pinangperanakanmansion.com.my/images/banner_entrance.jpg']}"
      ]
     },
     "execution_count": 121,
     "metadata": {},
     "output_type": "execute_result"
    }
   ],
   "source": [
    "final"
   ]
  },
  {
   "cell_type": "markdown",
   "metadata": {},
   "source": [
    "# Final Recommendation Results"
   ]
  },
  {
   "cell_type": "code",
   "execution_count": 100,
   "metadata": {},
   "outputs": [
    {
     "data": {
      "text/plain": [
       "1"
      ]
     },
     "execution_count": 100,
     "metadata": {},
     "output_type": "execute_result"
    }
   ],
   "source": [
    "days = (end_date - start_date).days + 1\n",
    "days"
   ]
  },
  {
   "cell_type": "code",
   "execution_count": 101,
   "metadata": {},
   "outputs": [],
   "source": [
    "time = ['MORNING', 'EVENING']\n",
    "fields = ['NAME', 'CATEGORY', 'LOCATION', 'PRICE', 'RATING']\n",
    "recommendations = ['Recommendation 1:', 'Recommendation 2:']"
   ]
  },
  {
   "cell_type": "code",
   "execution_count": 102,
   "metadata": {},
   "outputs": [],
   "source": [
    "from ipywidgets import HBox, VBox, widgets"
   ]
  },
  {
   "cell_type": "code",
   "execution_count": 103,
   "metadata": {},
   "outputs": [],
   "source": [
    "box_layout = w.Layout(\n",
    "    justify_content='space-between',\n",
    "    display='flex',\n",
    "    flex_flow='row',\n",
    "    align_items='stretch',\n",
    ")\n",
    "column_layout = w.Layout(\n",
    "    justify_content='space-between',\n",
    "    width='75%',\n",
    "    display='flex',\n",
    "    flex_flow='column',\n",
    ")\n",
    "tab = []"
   ]
  },
  {
   "cell_type": "code",
   "execution_count": 104,
   "metadata": {},
   "outputs": [],
   "source": [
    "for i in range(days):\n",
    "    name = [\n",
    "        re.sub('_', ' ', i).capitalize()\n",
    "        for i in final['name'][i*4:(i+1)*4]\n",
    "    ]\n",
    "    category = [\n",
    "        re.sub('_', ' ', i).capitalize()\n",
    "        for i in final['category'][i*4:(i+1)*4]\n",
    "    ]\n",
    "    location = [\n",
    "        \"(\" + str(i[0]) + \",\" + str(i[1]) + \")\"\n",
    "        for i in final['location'][i*4:(i+1)*4]\n",
    "    ]\n",
    "    price = [str(i) for i in final['price']][i*4:(i+1)*4]\n",
    "    rating = [str(i) for i in final['rating']][i*4:(i+1)*4]\n",
    "\n",
    "    images = final['image'][i*4:(i+1)*4]\n",
    "    tab.append(\n",
    "        VBox(children=[\n",
    "            HBox(children=[\n",
    "                VBox(children=[\n",
    "                    widgets.HTML(value=f\"<b><font color='orange'>{time[0]}</b>\"),\n",
    "                    widgets.HTML(\n",
    "                        value=f\"<b><font color='purple'>{recommendations[0]}</b>\"),\n",
    "                    widgets.HTML(value=\"<img src='{}'>\".format(images[0])),\n",
    "                    widgets.HTML(description=fields[0],\n",
    "                                 value=f\"<b><font color='black'>{name[0]}</b>\",\n",
    "                                 disabled=True),\n",
    "                    widgets.HTML(description=fields[1],\n",
    "                                 value=f\"<b><font color='black'>{category[0]}</b>\",\n",
    "                                 disabled=True),\n",
    "                    widgets.HTML(description=fields[2],\n",
    "                                 value=f\"<b><font color='black'>{location[0]}</b>\",\n",
    "                                 disabled=True),\n",
    "                    widgets.HTML(description=fields[3],\n",
    "                                 value=f\"<b><font color='black'>{price[0]}</b>\",\n",
    "                                 disabled=True),\n",
    "                    widgets.HTML(description=fields[4],\n",
    "                                 value=f\"<b><font color='black'>{rating[0]}</b>\",\n",
    "                                 disabled=True)\n",
    "                ],\n",
    "                     layout=column_layout),\n",
    "                VBox(children=[\n",
    "                    widgets.HTML(value=f\"<b><font color='orange'>{time[1]}</b>\"),\n",
    "                    widgets.HTML(\n",
    "                        value=f\"<b><font color='purple'>{recommendations[0]}</b>\"),\n",
    "                    widgets.HTML(value=\"<img src='{}'>\".format(images[2])),\n",
    "                    widgets.HTML(description=fields[0],\n",
    "                                 value=f\"<b><font color='black'>{name[2]}</b>\",\n",
    "                                 disabled=True),\n",
    "                    widgets.HTML(description=fields[1],\n",
    "                                 value=f\"<b><font color='black'>{category[2]}</b>\",\n",
    "                                 disabled=True),\n",
    "                    widgets.HTML(description=fields[2],\n",
    "                                 value=f\"<b><font color='black'>{location[2]}</b>\",\n",
    "                                 disabled=True),\n",
    "                    widgets.HTML(description=fields[3],\n",
    "                                 value=f\"<b><font color='black'>{price[2]}</b>\",\n",
    "                                 disabled=True),\n",
    "                    widgets.HTML(description=fields[4],\n",
    "                                 value=f\"<b><font color='black'>{rating[2]}</b>\",\n",
    "                                 disabled=True)\n",
    "                ],\n",
    "                     layout=column_layout)\n",
    "            ],\n",
    "                 layout=box_layout),\n",
    "            HBox(children=[\n",
    "                VBox(children=[\n",
    "                    widgets.HTML(\n",
    "                        value=f\"<b><font color='purple'>{recommendations[1]}</b>\"),\n",
    "                    widgets.HTML(value=\"<img src='{}'>\".format(images[1])),\n",
    "                    widgets.HTML(description=fields[0],\n",
    "                                 value=f\"<b><font color='black'>{name[1]}</b>\",\n",
    "                                 disabled=True),\n",
    "                    widgets.HTML(description=fields[1],\n",
    "                                 value=f\"<b><font color='black'>{category[1]}</b>\",\n",
    "                                 disabled=True),\n",
    "                    widgets.HTML(description=fields[2],\n",
    "                                 value=f\"<b><font color='black'>{location[1]}</b>\",\n",
    "                                 disabled=True),\n",
    "                    widgets.HTML(description=fields[3],\n",
    "                                 value=f\"<b><font color='black'>{price[1]}</b>\",\n",
    "                                 disabled=True),\n",
    "                    widgets.HTML(description=fields[4],\n",
    "                                 value=f\"<b><font color='black'>{rating[1]}</b>\",\n",
    "                                 disabled=True)\n",
    "                ],\n",
    "                     layout=column_layout),\n",
    "                VBox(children=[\n",
    "                    widgets.HTML(\n",
    "                        value=f\"<b><font color='purple'>{recommendations[1]}</b>\"),\n",
    "                    widgets.HTML(value=\"<img src='{}'>\".format(images[3])),\n",
    "                    widgets.HTML(description=fields[0],\n",
    "                                 value=f\"<b><font color='black'>{name[3]}</b>\",\n",
    "                                 disabled=True),\n",
    "                    widgets.HTML(description=fields[1],\n",
    "                                 value=f\"<b><font color='black'>{category[3]}</b>\",\n",
    "                                 disabled=True),\n",
    "                    widgets.HTML(description=fields[2],\n",
    "                                 value=f\"<b><font color='black'>{location[3]}</b>\",\n",
    "                                 disabled=True),\n",
    "                    widgets.HTML(description=fields[3],\n",
    "                                 value=f\"<b><font color='black'>{price[3]}</b>\",\n",
    "                                 disabled=True),\n",
    "                    widgets.HTML(description=fields[4],\n",
    "                                 value=f\"<b><font color='black'>{rating[3]}</b>\",\n",
    "                                 disabled=True)\n",
    "                ],\n",
    "                     layout=column_layout),\n",
    "            ],\n",
    "                 layout=box_layout)\n",
    "        ]))"
   ]
  },
  {
   "cell_type": "code",
   "execution_count": 105,
   "metadata": {},
   "outputs": [],
   "source": [
    "tab_recc = widgets.Tab(children=tab)\n",
    "for i in range(len(tab_recc.children)):\n",
    "    tab_recc.set_title(i, str('Day ' + str(i + 1)))"
   ]
  },
  {
   "cell_type": "code",
   "execution_count": 106,
   "metadata": {
    "scrolled": false
   },
   "outputs": [
    {
     "data": {
      "application/vnd.jupyter.widget-view+json": {
       "model_id": "7ad883f32ecf4ed7a576a920af6ff99f",
       "version_major": 2,
       "version_minor": 0
      },
      "text/plain": [
       "Tab(children=(VBox(children=(HBox(children=(VBox(children=(HTML(value=\"<b><font color='orange'>MORNING</b>\"), …"
      ]
     },
     "metadata": {},
     "output_type": "display_data"
    }
   ],
   "source": [
    "display(tab_recc)"
   ]
  },
  {
   "cell_type": "code",
   "execution_count": 122,
   "metadata": {},
   "outputs": [],
   "source": [
    "test = 'kuala_lumpur'"
   ]
  },
  {
   "cell_type": "code",
   "execution_count": 125,
   "metadata": {},
   "outputs": [
    {
     "data": {
      "text/plain": [
       "'Kuala Lumpur'"
      ]
     },
     "execution_count": 125,
     "metadata": {},
     "output_type": "execute_result"
    }
   ],
   "source": [
    "re.sub('_', ' ', test).title()"
   ]
  },
  {
   "cell_type": "code",
   "execution_count": null,
   "metadata": {},
   "outputs": [],
   "source": []
  }
 ],
 "metadata": {
  "kernelspec": {
   "display_name": "Python 3",
   "language": "python",
   "name": "python3"
  },
  "language_info": {
   "codemirror_mode": {
    "name": "ipython",
    "version": 3
   },
   "file_extension": ".py",
   "mimetype": "text/x-python",
   "name": "python",
   "nbconvert_exporter": "python",
   "pygments_lexer": "ipython3",
   "version": "3.7.3"
  }
 },
 "nbformat": 4,
 "nbformat_minor": 2
}
