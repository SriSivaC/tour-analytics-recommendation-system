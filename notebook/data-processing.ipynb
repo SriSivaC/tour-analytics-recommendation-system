{
 "cells": [
  {
   "cell_type": "code",
   "execution_count": 1,
   "metadata": {},
   "outputs": [],
   "source": [
    "# import project directory helper\n",
    "import os, sys, inspect\n",
    "currentDir = os.getcwd()\n",
    "parentDir = os.path.dirname(currentDir)\n",
    "sys.path.insert(0, parentDir)"
   ]
  },
  {
   "cell_type": "code",
   "execution_count": 2,
   "metadata": {},
   "outputs": [],
   "source": [
    "# import pyspark packages\n",
    "from pyspark import SparkContext as sc\n",
    "from pyspark.sql import SQLContext\n",
    "from pyspark.sql import SparkSession, functions, types\n",
    "from pyspark.sql.types import *"
   ]
  },
  {
   "cell_type": "code",
   "execution_count": 3,
   "metadata": {},
   "outputs": [],
   "source": [
    "# import util packages\n",
    "from IPython.display import display\n",
    "import pandas as pd"
   ]
  },
  {
   "cell_type": "code",
   "execution_count": 4,
   "metadata": {},
   "outputs": [],
   "source": [
    "# sc = sc(appName=\"attraction\")\n",
    "# sqlContext = SQLContext(sc)\n",
    "\n",
    "spark = SparkSession.builder.appName(\"attraction\").getOrCreate()"
   ]
  },
  {
   "cell_type": "code",
   "execution_count": 123,
   "metadata": {},
   "outputs": [
    {
     "data": {
      "text/html": [
       "<div>\n",
       "<style scoped>\n",
       "    .dataframe tbody tr th:only-of-type {\n",
       "        vertical-align: middle;\n",
       "    }\n",
       "\n",
       "    .dataframe tbody tr th {\n",
       "        vertical-align: top;\n",
       "    }\n",
       "\n",
       "    .dataframe thead th {\n",
       "        text-align: right;\n",
       "    }\n",
       "</style>\n",
       "<table border=\"1\" class=\"dataframe\">\n",
       "  <thead>\n",
       "    <tr style=\"text-align: right;\">\n",
       "      <th></th>\n",
       "      <th>activityId</th>\n",
       "      <th>locationId</th>\n",
       "      <th>href</th>\n",
       "      <th>category</th>\n",
       "    </tr>\n",
       "  </thead>\n",
       "  <tbody>\n",
       "    <tr>\n",
       "      <th>0</th>\n",
       "      <td>12962337</td>\n",
       "      <td>298570</td>\n",
       "      <td>/AttractionProductReview-g298570-d12962337-Mal...</td>\n",
       "      <td>[featured_tours_and_tickets, luxury_special_oc...</td>\n",
       "    </tr>\n",
       "    <tr>\n",
       "      <th>1</th>\n",
       "      <td>12905660</td>\n",
       "      <td>298570</td>\n",
       "      <td>/AttractionProductReview-g298570-d12905660-Pet...</td>\n",
       "      <td>[featured_tours_and_tickets, sightseeing_ticke...</td>\n",
       "    </tr>\n",
       "    <tr>\n",
       "      <th>2</th>\n",
       "      <td>11807013</td>\n",
       "      <td>298570</td>\n",
       "      <td>/AttractionProductReview-g298570-d11807013-Dis...</td>\n",
       "      <td>[featured_tours_and_tickets, private_custom_to...</td>\n",
       "    </tr>\n",
       "    <tr>\n",
       "      <th>3</th>\n",
       "      <td>12471375</td>\n",
       "      <td>298570</td>\n",
       "      <td>/AttractionProductReview-g298570-d12471375-Gen...</td>\n",
       "      <td>[featured_tours_and_tickets, luxury_special_oc...</td>\n",
       "    </tr>\n",
       "    <tr>\n",
       "      <th>4</th>\n",
       "      <td>12469580</td>\n",
       "      <td>298570</td>\n",
       "      <td>/AttractionProductReview-g298570-d12469580-Hal...</td>\n",
       "      <td>[featured_tours_and_tickets, luxury_special_oc...</td>\n",
       "    </tr>\n",
       "  </tbody>\n",
       "</table>\n",
       "</div>"
      ],
      "text/plain": [
       "  activityId locationId                                               href  \\\n",
       "0   12962337     298570  /AttractionProductReview-g298570-d12962337-Mal...   \n",
       "1   12905660     298570  /AttractionProductReview-g298570-d12905660-Pet...   \n",
       "2   11807013     298570  /AttractionProductReview-g298570-d11807013-Dis...   \n",
       "3   12471375     298570  /AttractionProductReview-g298570-d12471375-Gen...   \n",
       "4   12469580     298570  /AttractionProductReview-g298570-d12469580-Hal...   \n",
       "\n",
       "                                            category  \n",
       "0  [featured_tours_and_tickets, luxury_special_oc...  \n",
       "1  [featured_tours_and_tickets, sightseeing_ticke...  \n",
       "2  [featured_tours_and_tickets, private_custom_to...  \n",
       "3  [featured_tours_and_tickets, luxury_special_oc...  \n",
       "4  [featured_tours_and_tickets, luxury_special_oc...  "
      ]
     },
     "execution_count": 123,
     "metadata": {},
     "output_type": "execute_result"
    }
   ],
   "source": [
    "tripadvisor_attr_href_cat = parentDir + '/crawler/json/tripadvisor_attr_href_cat.json'\n",
    "\n",
    "attr_href_cat_df = pd.read_json(tripadvisor_attr_href_cat, orient='records')\n",
    "\n",
    "# Get activityId from dataframe\n",
    "attr_href_cat_df['activityId'] = attr_href_cat_df['href'].str.extract(\n",
    "    r'd(\\d+)', expand=True)\n",
    "attr_href_cat_df['locationId'] = attr_href_cat_df['href'].str.extract(\n",
    "    r'g(\\d+)', expand=True)\n",
    "attr_href_cat_df_cl = ['activityId', 'locationId', 'href',\n",
    "                       'category']  # columns order\n",
    "attr_href_cat_df = attr_href_cat_df.reindex(columns=attr_href_cat_df_cl)\n",
    "attr_href_cat_df.head()"
   ]
  },
  {
   "cell_type": "code",
   "execution_count": 124,
   "metadata": {},
   "outputs": [
    {
     "name": "stdout",
     "output_type": "stream",
     "text": [
      "Duplicated values:\n",
      "     activityId locationId                                               href  \\\n",
      "375         NaN        NaN  /AttractionProductReview?partner=Viator&produc...   \n",
      "1338        NaN        NaN  /AttractionProductReview?partner=Viator&produc...   \n",
      "1944        NaN        NaN  /AttractionProductReview?partner=Viator&produc...   \n",
      "\n",
      "                                       category  \n",
      "375    [classes_workshops, food_wine_nightlife]  \n",
      "1338                       [outdoor_activities]  \n",
      "1944  [private_custom_tours, tours_sightseeing]  \n",
      "\n",
      "Length before removing duplicated values: 4260\n",
      "Length after removing duplicated values: 4257\n",
      "Length after removing NaN values: 4257\n"
     ]
    }
   ],
   "source": [
    "# showing and removing duplicate value\n",
    "print('Duplicated values:')\n",
    "print(attr_href_cat_df[attr_href_cat_df['activityId'].duplicated(keep=False)])\n",
    "print()\n",
    "print('Length before removing duplicated values: ' +\n",
    "      str(len(attr_href_cat_df)))\n",
    "\n",
    "# # dropping duplicate values\n",
    "attr_href_cat_df = attr_href_cat_df.drop_duplicates(subset='activityId',\n",
    "                                                    keep=False)\n",
    "print('Length after removing duplicated values: ' + str(len(attr_href_cat_df)))\n",
    "\n",
    "# dropping nan values\n",
    "attr_href_cat_df = attr_href_cat_df.dropna()\n",
    "print('Length after removing NaN values: ' + str(len(attr_href_cat_df)))"
   ]
  },
  {
   "cell_type": "code",
   "execution_count": 125,
   "metadata": {},
   "outputs": [
    {
     "name": "stdout",
     "output_type": "stream",
     "text": [
      "+----------+----------+--------------------+--------------------+\n",
      "|activityId|locationId|                href|            category|\n",
      "+----------+----------+--------------------+--------------------+\n",
      "|  12962337|    298570|/AttractionProduc...|[featured_tours_a...|\n",
      "|  12905660|    298570|/AttractionProduc...|[featured_tours_a...|\n",
      "|  11807013|    298570|/AttractionProduc...|[featured_tours_a...|\n",
      "|  12471375|    298570|/AttractionProduc...|[featured_tours_a...|\n",
      "|  12469580|    298570|/AttractionProduc...|[featured_tours_a...|\n",
      "|  16722683|    298570|/AttractionProduc...|[featured_tours_a...|\n",
      "|  11454341|   1096277|/AttractionProduc...|[featured_tours_a...|\n",
      "|  11812460|    298570|/AttractionProduc...|[featured_tours_a...|\n",
      "|  11992275|   1096277|/AttractionProduc...|[featured_tours_a...|\n",
      "|  11991123|    660694|/AttractionProduc...|[featured_tours_a...|\n",
      "|  11482502|    298570|/AttractionProduc...|[featured_tours_a...|\n",
      "|  19350513|    635527|/AttractionProduc...|[featured_tours_a...|\n",
      "|  11474972|    298303|/AttractionProduc...|[featured_tours_a...|\n",
      "|  12648212|    298307|/AttractionProduc...|[featured_tours_a...|\n",
      "|  11470871|    298570|/AttractionProduc...|[featured_tours_a...|\n",
      "|  12468200|    298570|/AttractionProduc...|[featured_tours_a...|\n",
      "|  12934938|    303997|/AttractionProduc...|[featured_tours_a...|\n",
      "|  11452959|    298570|/AttractionProduc...|[featured_tours_a...|\n",
      "|  16749910|    298283|/AttractionProduc...|[featured_tours_a...|\n",
      "|  12939362|    303997|/AttractionProduc...|[featured_tours_a...|\n",
      "+----------+----------+--------------------+--------------------+\n",
      "only showing top 20 rows\n",
      "\n"
     ]
    }
   ],
   "source": [
    "attr_href_cat_df_spark = spark.createDataFrame(attr_href_cat_df)\n",
    "attr_href_cat_df_spark.show()"
   ]
  },
  {
   "cell_type": "code",
   "execution_count": 126,
   "metadata": {},
   "outputs": [],
   "source": [
    "tripad_location = parentDir + '/crawler/datasets/tripadvisor_dataset/tripad_location.json'\n",
    "tripad_location_df_spark = spark.read.json(tripad_location)"
   ]
  },
  {
   "cell_type": "code",
   "execution_count": 129,
   "metadata": {},
   "outputs": [
    {
     "name": "stdout",
     "output_type": "stream",
     "text": [
      "+-----------+--------------------+--------+---------+\n",
      "|location_id|                name|latitude|longitude|\n",
      "+-----------+--------------------+--------+---------+\n",
      "|     298570|        Kuala Lumpur|3.156802|101.69717|\n",
      "|     298307|       Kota Kinabalu|5.979383|116.07349|\n",
      "|     660694|       Penang Island|5.388071|100.29352|\n",
      "|    1096277|                Kuah|6.326672|99.843025|\n",
      "|     635527|      Batu Ferringhi|5.471783|100.24629|\n",
      "|     298303|         George Town|5.411938|100.32664|\n",
      "|     298313|       Petaling Jaya| 3.10363|101.64778|\n",
      "|     298306|               Sabah|5.176992|117.13721|\n",
      "|     298277|               Johor|1.889306|103.42438|\n",
      "|     298291|              Pahang| 3.62074|102.59239|\n",
      "|     298308|             Sarawak|2.310777|112.50697|\n",
      "|     293938| Bandar Seri Begawan|  4.8919|114.94044|\n",
      "|     298298|                Ipoh| 4.59725|101.12015|\n",
      "|     303997|            Sandakan|5.838944|118.11561|\n",
      "|     294265|           Singapore|1.285801|103.85111|\n",
      "|     298283|            Langkawi|6.351074| 99.75824|\n",
      "|    1022648|               Klang|3.039726|101.44049|\n",
      "|    1540663|             Limbang| 4.75471|115.00896|\n",
      "|    1483707|Gunung Mulu Natio...|4.065645|114.93267|\n",
      "|     303998|                Miri|4.320708|113.99225|\n",
      "+-----------+--------------------+--------+---------+\n",
      "only showing top 20 rows\n",
      "\n"
     ]
    }
   ],
   "source": [
    "tripad_location_df_spark.select(\n",
    "    tripad_location_df_spark.location_id,\n",
    "    tripad_location_df_spark.name,\n",
    "    tripad_location_df_spark.latitude,\n",
    "    tripad_location_df_spark.longitude).show()"
   ]
  },
  {
   "cell_type": "code",
   "execution_count": 112,
   "metadata": {},
   "outputs": [],
   "source": [
    "tripad_activity = parentDir + '/crawler/datasets/tripadvisor_dataset/tripad_activity.json'\n",
    "tripad_activity_df_spark = spark.read.json(tripad_activity)"
   ]
  },
  {
   "cell_type": "code",
   "execution_count": null,
   "metadata": {},
   "outputs": [],
   "source": [
    "tripad_activity_df_spark"
   ]
  },
  {
   "cell_type": "code",
   "execution_count": 109,
   "metadata": {},
   "outputs": [],
   "source": [
    "tripad_activity_df_spark = tripad_activity_df_spark.drop(\n",
    "    'productCarousel', 'highlights', 'whatToExpect', 'importantInformation',\n",
    "    'additionalInfo', 'cancellationPolicy',\n",
    "    'obfuscatedViatorCommerceLink', '__COMMENT')"
   ]
  },
  {
   "cell_type": "code",
   "execution_count": 118,
   "metadata": {},
   "outputs": [
    {
     "name": "stdout",
     "output_type": "stream",
     "text": [
      "+------------------------+--------------------------+--------------------------+------------------------+\n",
      "|productHeader.activityId|productHeader.productTitle|productHeader.reviewRating|tourPlanner.numericPrice|\n",
      "+------------------------+--------------------------+--------------------------+------------------------+\n",
      "|                12962337|      Malaysia Countrys...|                       4.5|                   41.36|\n",
      "|                12905660|      Petronas Twin Tow...|                       4.0|                  119.96|\n",
      "|                11807013|      Discover the Best...|                       4.5|                  142.04|\n",
      "|                12471375|      Genting Highlands...|                       4.5|                  103.41|\n",
      "|                12469580|      Half-Day Kuala Lu...|                       4.0|                   43.43|\n",
      "|                16722683|      KL Hop On Hop Off...|                       3.0|                   53.28|\n",
      "|                11476707|      Tunku Abdul Rahma...|                       4.5|                  289.55|\n",
      "|                11812460|      Private Half-Day ...|                       5.0|                  375.71|\n",
      "|                11482502|      Batik Bag Paintin...|                       5.0|                  119.96|\n",
      "|                11991123|      Cheong Fatt Tze G...|                       4.5|                   20.68|\n",
      "|                12648212|      North Borneo Crui...|                       4.5|                  222.84|\n",
      "|                11454341|      Langkawi Archipel...|                       5.0|                  517.05|\n",
      "|                19350512|      Chef Samuel's Qui...|                      -1.0|                  223.37|\n",
      "|                11470871|      Hot Air Balloon F...|                       5.0|                  951.37|\n",
      "|                14128357|          Dragon Back Trek|                       5.0|                  215.09|\n",
      "|                12650987|      3-Day Jungle Expe...|                      -1.0|                 1389.83|\n",
      "|                11474972|      Half-Day Penang C...|                       5.0|                  109.89|\n",
      "|                12468200|      Private Tour: Kua...|                       5.0|                   409.5|\n",
      "|                11452959|      Small-Group Food ...|                       5.0|                  244.05|\n",
      "|                17686855|      Dinawan Island by...|                       5.0|                  289.55|\n",
      "+------------------------+--------------------------+--------------------------+------------------------+\n",
      "only showing top 20 rows\n",
      "\n"
     ]
    }
   ],
   "source": [
    "tripad_activity_df_spark.select(\n",
    "    tripad_activity_df_spark.productHeader.activityId,\n",
    "    tripad_activity_df_spark.productHeader.productTitle,\n",
    "    tripad_activity_df_spark.productHeader.reviewRating,\n",
    "    tripad_activity_df_spark.tourPlanner.numericPrice).show()"
   ]
  },
  {
   "cell_type": "code",
   "execution_count": 71,
   "metadata": {},
   "outputs": [
    {
     "data": {
      "text/plain": [
       "Column<b'productHeader[productId]'>"
      ]
     },
     "execution_count": 71,
     "metadata": {},
     "output_type": "execute_result"
    }
   ],
   "source": [
    "tripad_activity_df_spark.productHeader.productId"
   ]
  },
  {
   "cell_type": "code",
   "execution_count": 54,
   "metadata": {},
   "outputs": [
    {
     "data": {
      "text/plain": [
       "DataFrame[additionalInfo: string, cancellationPolicy: string, highlights: array<struct<encodedValue:string,originalValue:string>>, importantInformation: struct<departurePoint:string,departureTime:string,duration:string,exclusions:string,inclusions:string,returnDetails:string>, obfuscatedViatorCommerceLink: string, overview: struct<amenities:struct<additionalLanguages:string,additionalLanguagesCount:bigint,duration:string,freeCancellation:string,hotelPickup:string,instantConfirmation:string,locale:string,primaryLanguages:string,supplierName:string,supplierUrl:string,supplierUrlIsObfuscated:boolean,voucher:string>,locale:string,productText:string>, productCarousel: struct<isTravelersChoice:boolean,mediaList:array<struct<mediaSource:string,mediaType:string,mediaUrl:string,title:string>>>, productItinerary: struct<endsAtStartPoint:boolean,pickupAdditionalInfo:string,pickupTypeEnum:string,productItineraryItems:array<struct<admissionInclusionTypeEnum:string,description:string,durationInMinutes:bigint,latitude:double,longitude:double,name:string,taLocationId:bigint>>,startEndPoints:array<struct<address:string,instruction:string,latitude:double,longitude:double,name:string,startEndPointTypeEnum:string>>>, tourPlanner: struct<ageBands:array<struct<adult:bigint,ageBandId:bigint,ageFrom:bigint,ageTo:bigint,denied:bigint,description:string,maxPaxCount:bigint,minPaxCount:bigint>>,attractionId:bigint,freeCancellationMessage:string,fromPricing:string,isInactive:boolean,maxPax:bigint,numericPrice:double,partner:string,productCode:struct<encodedValue:string,originalValue:string>,productLanguages:array<struct<label:string,value:string>>,productPromo:struct<promoText:string,savings:string,strikeThruPrice:string>,productTags:array<string>,productTitle:string,serviceNumber:string,tourGrades:array<struct<ageBandPrice:string,gradeCode:string,gradeDescription:string,gradeTitle:string,isMostPopularText:string>>>, whatToExpect: struct<attractionsList:array<struct<bubbleRating:bigint,category:string,detailUrl:string,entityType:string,experiencesCtaEncodedLink:string,experiencesCtaNumOffers:bigint,experiencesCtaStartingCost:string,geoPoint:struct<latitude:double,longitude:double>,id:bigint,name:string,numReviews:bigint,openHours:string,openNow:string,thumbnail:struct<caption:string,helpful_votes:bigint,id:bigint,images:struct<large:struct<height:bigint,url:string,width:bigint>,medium:struct<height:bigint,url:string,width:bigint>,original:struct<height:bigint,url:string,width:bigint>,small:struct<height:bigint,url:string,width:bigint>,thumbnail:struct<height:bigint,url:string,width:bigint>>,is_blessed:boolean,published_date:string,uploaded_date:string>>>,introductionText:string,itineraryText:string>]"
      ]
     },
     "execution_count": 54,
     "metadata": {},
     "output_type": "execute_result"
    }
   ],
   "source": [
    "tripad_activity_df_spark"
   ]
  },
  {
   "cell_type": "code",
   "execution_count": 32,
   "metadata": {},
   "outputs": [
    {
     "data": {
      "text/plain": [
       "4122"
      ]
     },
     "execution_count": 32,
     "metadata": {},
     "output_type": "execute_result"
    }
   ],
   "source": [
    "tripad_activity_df_spark.count()"
   ]
  },
  {
   "cell_type": "code",
   "execution_count": 33,
   "metadata": {},
   "outputs": [],
   "source": [
    "tripad_activity_df_spark.write.parquet(parentDir + '/crawler/datasets/tripadvisor_dataset/spark/tripad_act',mode='overwrite')"
   ]
  },
  {
   "cell_type": "code",
   "execution_count": null,
   "metadata": {},
   "outputs": [],
   "source": []
  },
  {
   "cell_type": "code",
   "execution_count": 35,
   "metadata": {},
   "outputs": [],
   "source": [
    "attr_act_parquet_path = parentDir + '/crawler/datasets/tripadvisor_dataset/spark/tripad_act'\n",
    "\n",
    "attr_act_df = spark.read.parquet(attr_act_parquet_path)\n",
    "attr_act_df.createOrReplaceTempView('attr_act_df')"
   ]
  },
  {
   "cell_type": "code",
   "execution_count": 37,
   "metadata": {},
   "outputs": [
    {
     "data": {
      "text/plain": [
       "4122"
      ]
     },
     "execution_count": 37,
     "metadata": {},
     "output_type": "execute_result"
    }
   ],
   "source": [
    "attr_act_df.count()"
   ]
  },
  {
   "cell_type": "code",
   "execution_count": null,
   "metadata": {},
   "outputs": [],
   "source": []
  }
 ],
 "metadata": {
  "kernelspec": {
   "display_name": "Python 3",
   "language": "python",
   "name": "python3"
  },
  "language_info": {
   "codemirror_mode": {
    "name": "ipython",
    "version": 3
   },
   "file_extension": ".py",
   "mimetype": "text/x-python",
   "name": "python",
   "nbconvert_exporter": "python",
   "pygments_lexer": "ipython3",
   "version": "3.7.3"
  }
 },
 "nbformat": 4,
 "nbformat_minor": 2
}
