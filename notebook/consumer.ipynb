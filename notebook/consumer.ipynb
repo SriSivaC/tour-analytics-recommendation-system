{
 "cells": [
  {
   "cell_type": "code",
   "execution_count": null,
   "metadata": {},
   "outputs": [],
   "source": [
    "# import project directory helper\n",
    "import os, sys\n",
    "ROOT_DIR = os.path.abspath('/home/hduser/document/jupyter/FYP/')\n",
    "BACKEND_DIR = os.path.abspath(\n",
    "    '/home/hduser/document/jupyter/FYP/crawler/backend')\n",
    "sys.path.insert(0, BACKEND_DIR)"
   ]
  },
  {
   "cell_type": "code",
   "execution_count": null,
   "metadata": {},
   "outputs": [],
   "source": [
    "from consumer import *"
   ]
  },
  {
   "cell_type": "code",
   "execution_count": null,
   "metadata": {},
   "outputs": [],
   "source": [
    "# import pyspark packages\n",
    "# set the kafka dependencies before create spark context or session\n",
    "# import os\n",
    "# os.environ[\n",
    "#     'PYSPARK_SUBMIT_ARGS'] = '--packages org.apache.spark:spark-streaming-kafka-0-8_2.11:2.4.4,org.apache.spark:spark-sql-kafka-0-10_2.11:2.4.4 pyspark-shell'\n",
    "from pyspark.sql import SparkSession, functions, types\n",
    "from pyspark.sql.types import *"
   ]
  },
  {
   "cell_type": "code",
   "execution_count": null,
   "metadata": {},
   "outputs": [],
   "source": [
    "spark = SparkSession.builder.appName('attraction').getOrCreate()\n",
    "spark"
   ]
  },
  {
   "cell_type": "code",
   "execution_count": null,
   "metadata": {},
   "outputs": [],
   "source": [
    "parquet_path = '/home/hduser/document/jupyter/FYP/crawler/datasets/testing/spark-warehouse/'"
   ]
  },
  {
   "cell_type": "markdown",
   "metadata": {},
   "source": [
    "# Consume theculturetrip data to json"
   ]
  },
  {
   "cell_type": "code",
   "execution_count": null,
   "metadata": {},
   "outputs": [],
   "source": [
    "ds_dir = '/home/hduser/document/jupyter/FYP/crawler/datasets/theculturetrip_dataset/'\n",
    "broker = ['10.123.10.26:9092']\n",
    "kafka_topic = 'theculturetrip'\n",
    "key = []\n",
    "filepath = ds_dir + kafka_topic + '.json'"
   ]
  },
  {
   "cell_type": "code",
   "execution_count": null,
   "metadata": {},
   "outputs": [],
   "source": [
    "kafka_to_json(broker, kafka_topic, filepath, key)"
   ]
  },
  {
   "cell_type": "markdown",
   "metadata": {},
   "source": [
    "# Consume tripad_attr_review data to json"
   ]
  },
  {
   "cell_type": "code",
   "execution_count": null,
   "metadata": {},
   "outputs": [],
   "source": [
    "ds_dir = '/home/hduser/document/jupyter/FYP/crawler/datasets/tripadvisor_dataset/'\n",
    "broker = ['10.123.10.26:9092']\n",
    "kafka_topic = 'tripad_attr_review'\n",
    "key = [0, 'data', 'locations', 0, 'reviewListPage', 'reviews']\n",
    "filepath = ds_dir + kafka_topic + '.json'"
   ]
  },
  {
   "cell_type": "code",
   "execution_count": null,
   "metadata": {},
   "outputs": [],
   "source": [
    "kafka_to_json(broker, kafka_topic, filepath, key)"
   ]
  },
  {
   "cell_type": "markdown",
   "metadata": {},
   "source": [
    "# Consume tripad_attr_location data to json"
   ]
  },
  {
   "cell_type": "code",
   "execution_count": null,
   "metadata": {},
   "outputs": [],
   "source": [
    "ds_dir = '/home/hduser/document/jupyter/FYP/crawler/datasets/tripadvisor_dataset/'\n",
    "broker = ['10.123.10.26:9092']\n",
    "kafka_topic = 'tripad_attr_location'\n",
    "filepath = ds_dir + kafka_topic + '.json'\n",
    "key = []"
   ]
  },
  {
   "cell_type": "code",
   "execution_count": null,
   "metadata": {},
   "outputs": [],
   "source": [
    "kafka_to_json(broker, kafka_topic, filepath, key)"
   ]
  },
  {
   "cell_type": "markdown",
   "metadata": {},
   "source": [
    "# Consume tripad_attr_activity data to json"
   ]
  },
  {
   "cell_type": "code",
   "execution_count": null,
   "metadata": {},
   "outputs": [],
   "source": [
    "ds_dir = '/home/hduser/document/jupyter/FYP/crawler/datasets/tripadvisor_dataset/'\n",
    "broker = ['10.123.10.26:9092']\n",
    "kafka_topic = 'tripad_attr_activity'\n",
    "filepath = ds_dir + kafka_topic + '.json'\n",
    "key = []"
   ]
  },
  {
   "cell_type": "code",
   "execution_count": null,
   "metadata": {},
   "outputs": [],
   "source": [
    "kafka_to_json(broker, kafka_topic, filepath, key)"
   ]
  },
  {
   "cell_type": "markdown",
   "metadata": {},
   "source": [
    "# Consume tripad_hotel_info data to json"
   ]
  },
  {
   "cell_type": "code",
   "execution_count": null,
   "metadata": {},
   "outputs": [],
   "source": [
    "ds_dir = '/home/hduser/document/jupyter/FYP/crawler/datasets/tripadvisor_dataset/'\n",
    "broker = ['10.123.10.26:9092']\n",
    "kafka_topic = 'tripad_hotel_info'\n",
    "filepath = ds_dir + kafka_topic + '.json'\n",
    "key = []"
   ]
  },
  {
   "cell_type": "code",
   "execution_count": null,
   "metadata": {},
   "outputs": [],
   "source": [
    "kafka_to_json(broker, kafka_topic, filepath, key)"
   ]
  },
  {
   "cell_type": "markdown",
   "metadata": {},
   "source": [
    "# Consume tripad_hotel_review data to json"
   ]
  },
  {
   "cell_type": "code",
   "execution_count": null,
   "metadata": {},
   "outputs": [],
   "source": [
    "ds_dir = '/home/hduser/document/jupyter/FYP/crawler/datasets/tripadvisor_dataset/'\n",
    "broker = ['10.123.10.26:9092']\n",
    "kafka_topic = 'tripad_hotel_review'\n",
    "filepath = ds_dir + kafka_topic + '.json'\n",
    "key = [0, 'data', 'locations', 0, 'reviewListPage', 'reviews']"
   ]
  },
  {
   "cell_type": "code",
   "execution_count": null,
   "metadata": {},
   "outputs": [],
   "source": [
    "kafka_to_json(broker, kafka_topic, filepath, key)"
   ]
  },
  {
   "cell_type": "markdown",
   "metadata": {},
   "source": [
    "# Validate json data using spark"
   ]
  },
  {
   "cell_type": "code",
   "execution_count": null,
   "metadata": {},
   "outputs": [],
   "source": [
    "# read json as spark dataframe\n",
    "spark_df = spark.read.json(ds_dir + kafka_topic + '.json')"
   ]
  },
  {
   "cell_type": "code",
   "execution_count": null,
   "metadata": {},
   "outputs": [],
   "source": [
    "# drop unwanted columns\n",
    "spark_df = spark_df.drop('__COMMENT')\n",
    "# tripad_attr_review\n",
    "spark_df = spark_df.dropna(subset='__typename')"
   ]
  },
  {
   "cell_type": "code",
   "execution_count": null,
   "metadata": {},
   "outputs": [],
   "source": [
    "# showing\n",
    "display(spark_df.toPandas())"
   ]
  },
  {
   "cell_type": "code",
   "execution_count": null,
   "metadata": {},
   "outputs": [],
   "source": [
    "# write spark dataframe to parquet\n",
    "spark_df.write.parquet(parquet_path + kafka_topic, mode='overwrite')"
   ]
  },
  {
   "cell_type": "markdown",
   "metadata": {},
   "source": [
    "# Consume kafka data to hbase"
   ]
  },
  {
   "cell_type": "code",
   "execution_count": null,
   "metadata": {},
   "outputs": [],
   "source": [
    "broker = ['10.123.10.26:9092']\n",
    "hbase_host = 'localhost'\n",
    "kafka_topic = 'theculturetrip'\n",
    "key = [\"props, pageProps, articleStoreState, articleData, data, link\"]\n",
    "column = [\"m:url\"]"
   ]
  },
  {
   "cell_type": "code",
   "execution_count": null,
   "metadata": {},
   "outputs": [],
   "source": [
    "# theculturetrip url\n",
    "kafka_to_hbase(broker, hbase_host, kafka_topic, key, column)"
   ]
  },
  {
   "cell_type": "code",
   "execution_count": null,
   "metadata": {},
   "outputs": [],
   "source": [
    "broker = ['10.123.10.26:9092']\n",
    "hbase_host = 'localhost'\n",
    "kafka_topic = 'tripad_attr_location'\n",
    "key = [\"web_url\"]\n",
    "column = [\"m:url\"]"
   ]
  },
  {
   "cell_type": "code",
   "execution_count": null,
   "metadata": {},
   "outputs": [],
   "source": [
    "# tripadvisor location\n",
    "kafka_to_hbase(broker, hbase_host, kafka_topic, key, column)"
   ]
  },
  {
   "cell_type": "code",
   "execution_count": null,
   "metadata": {},
   "outputs": [],
   "source": [
    "broker = ['10.123.10.26:9092']\n",
    "hbase_host = 'localhost'\n",
    "kafka_topic = 'tripad_attr_activity'\n",
    "key = [\"productHeader\", \"activityId\"]\n",
    "column = [\"m:activityId\"]"
   ]
  },
  {
   "cell_type": "code",
   "execution_count": null,
   "metadata": {},
   "outputs": [],
   "source": [
    "# tripadvisor activity\n",
    "kafka_to_hbase(broker, hbase_host, kafka_topic, key, column)"
   ]
  },
  {
   "cell_type": "code",
   "execution_count": null,
   "metadata": {},
   "outputs": [],
   "source": [
    "broker = ['10.123.10.26:9092']\n",
    "hbase_host = 'localhost'\n",
    "kafka_topic = 'tripad_attr_review'\n",
    "key = [0, \"data\", \"locations\", 0, \"locationId\"]\n",
    "column = [\"m:locationId\"]"
   ]
  },
  {
   "cell_type": "code",
   "execution_count": null,
   "metadata": {},
   "outputs": [],
   "source": [
    "# tripadvisor activity review\n",
    "kafka_to_hbase(broker, hbase_host, kafka_topic, key, column)"
   ]
  },
  {
   "cell_type": "code",
   "execution_count": null,
   "metadata": {},
   "outputs": [],
   "source": []
  }
 ],
 "metadata": {
  "kernelspec": {
   "display_name": "Python 3",
   "language": "python",
   "name": "python3"
  },
  "language_info": {
   "codemirror_mode": {
    "name": "ipython",
    "version": 3
   },
   "file_extension": ".py",
   "mimetype": "text/x-python",
   "name": "python",
   "nbconvert_exporter": "python",
   "pygments_lexer": "ipython3",
   "version": "3.7.3"
  }
 },
 "nbformat": 4,
 "nbformat_minor": 2
}
